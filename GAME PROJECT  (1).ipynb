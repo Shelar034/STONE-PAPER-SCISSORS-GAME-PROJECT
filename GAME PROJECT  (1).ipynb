{
 "cells": [
  {
   "cell_type": "code",
   "execution_count": 1,
   "id": "29a51578-2783-47e8-b607-7415f80814da",
   "metadata": {},
   "outputs": [
    {
     "name": "stdout",
     "output_type": "stream",
     "text": [
      "stone: 🗿\n",
      "paper: ⬜\n",
      "scissors: ✂️\n",
      "Round 1: Computer chooses stone\n"
     ]
    },
    {
     "name": "stdin",
     "output_type": "stream",
     "text": [
      "Your turn, choose any one (stone, paper, scissors):  STONE\n"
     ]
    },
    {
     "name": "stdout",
     "output_type": "stream",
     "text": [
      "Tie! No points awarded.\n",
      "Computer's points: 0 | Your points: 0\n",
      "9 rounds left.\n",
      "\n",
      "Round 2: Computer chooses paper\n"
     ]
    },
    {
     "name": "stdin",
     "output_type": "stream",
     "text": [
      "Your turn, choose any one (stone, paper, scissors):  SCISSORS\n"
     ]
    },
    {
     "name": "stdout",
     "output_type": "stream",
     "text": [
      "You win, scissors cuts paper! Point to you.\n",
      "Computer's points: 0 | Your points: 1\n",
      "8 rounds left.\n",
      "\n",
      "Round 3: Computer chooses stone\n"
     ]
    },
    {
     "name": "stdin",
     "output_type": "stream",
     "text": [
      "Your turn, choose any one (stone, paper, scissors):  SCISSORS\n"
     ]
    },
    {
     "name": "stdout",
     "output_type": "stream",
     "text": [
      "You lose, stone crushes scissors! Point to computer.\n",
      "Computer's points: 1 | Your points: 1\n",
      "7 rounds left.\n",
      "\n",
      "Round 4: Computer chooses stone\n"
     ]
    },
    {
     "name": "stdin",
     "output_type": "stream",
     "text": [
      "Your turn, choose any one (stone, paper, scissors):  PAPER\n"
     ]
    },
    {
     "name": "stdout",
     "output_type": "stream",
     "text": [
      "You win, paper covers stone! Point to you.\n",
      "Computer's points: 1 | Your points: 2\n",
      "6 rounds left.\n",
      "\n",
      "Round 5: Computer chooses stone\n"
     ]
    },
    {
     "name": "stdin",
     "output_type": "stream",
     "text": [
      "Your turn, choose any one (stone, paper, scissors):  SCISSORS\n"
     ]
    },
    {
     "name": "stdout",
     "output_type": "stream",
     "text": [
      "You lose, stone crushes scissors! Point to computer.\n",
      "Computer's points: 2 | Your points: 2\n",
      "5 rounds left.\n",
      "\n",
      "Round 6: Computer chooses stone\n"
     ]
    },
    {
     "name": "stdin",
     "output_type": "stream",
     "text": [
      "Your turn, choose any one (stone, paper, scissors):  STONE\n"
     ]
    },
    {
     "name": "stdout",
     "output_type": "stream",
     "text": [
      "Tie! No points awarded.\n",
      "Computer's points: 2 | Your points: 2\n",
      "4 rounds left.\n",
      "\n",
      "Round 7: Computer chooses paper\n"
     ]
    },
    {
     "name": "stdin",
     "output_type": "stream",
     "text": [
      "Your turn, choose any one (stone, paper, scissors):  SCISSORS\n"
     ]
    },
    {
     "name": "stdout",
     "output_type": "stream",
     "text": [
      "You win, scissors cuts paper! Point to you.\n",
      "Computer's points: 2 | Your points: 3\n",
      "3 rounds left.\n",
      "\n",
      "Round 8: Computer chooses stone\n"
     ]
    },
    {
     "name": "stdin",
     "output_type": "stream",
     "text": [
      "Your turn, choose any one (stone, paper, scissors):  PAPER\n"
     ]
    },
    {
     "name": "stdout",
     "output_type": "stream",
     "text": [
      "You win, paper covers stone! Point to you.\n",
      "Computer's points: 2 | Your points: 4\n",
      "2 rounds left.\n",
      "\n",
      "Round 9: Computer chooses stone\n"
     ]
    },
    {
     "name": "stdin",
     "output_type": "stream",
     "text": [
      "Your turn, choose any one (stone, paper, scissors):  STONE\n"
     ]
    },
    {
     "name": "stdout",
     "output_type": "stream",
     "text": [
      "Tie! No points awarded.\n",
      "Computer's points: 2 | Your points: 4\n",
      "1 rounds left.\n",
      "\n",
      "Round 10: Computer chooses scissors\n"
     ]
    },
    {
     "name": "stdin",
     "output_type": "stream",
     "text": [
      "Your turn, choose any one (stone, paper, scissors):  STONE\n"
     ]
    },
    {
     "name": "stdout",
     "output_type": "stream",
     "text": [
      "You win, stone crushes scissors! Point to you.\n",
      "Computer's points: 2 | Your points: 5\n",
      "0 rounds left.\n",
      "\n",
      "GAME OVER\n",
      "Woohoo! You win! Computer loses.\n",
      "Final score - Your points: 5 | Computer's points: 2\n"
     ]
    }
   ],
   "source": [
    "import emoji\n",
    "import random\n",
    "print(\"stone:\", emoji.emojize(':moai:'))\n",
    "print(\"paper:\", emoji.emojize(':white_large_square:'))\n",
    "print(\"scissors:\", emoji.emojize(':scissors:'))\n",
    "\n",
    "\n",
    "choices = [\"stone\", \"paper\", \"scissors\"]\n",
    "user_p = 0\n",
    "pc1_p = 0\n",
    "i = 1\n",
    "\n",
    "\n",
    "while i <= 10:\n",
    "    pc1 = random.choice(choices)\n",
    "    print(f\"Round {i}: Computer chooses {pc1}\")\n",
    "    user = input(\"Your turn, choose any one (stone, paper, scissors): \").lower()\n",
    "\n",
    "\n",
    "    if user not in choices:\n",
    "        print(\"Invalid input, please choose 'stone', 'paper', or 'scissors'.\")\n",
    "        continue  \n",
    "\n",
    "    # Tie condition\n",
    "    if pc1 == user:\n",
    "        print(\"Tie! No points awarded.\")\n",
    "    # Stone vs Paper\n",
    "    elif user == \"stone\" and pc1 == \"paper\":\n",
    "        pc1_p += 1\n",
    "        print(\"You lose, paper covers stone! Point to computer.\")\n",
    "    # Stone vs Scissors\n",
    "    elif user == \"stone\" and pc1 == \"scissors\":\n",
    "        user_p += 1\n",
    "        print(\"You win, stone crushes scissors! Point to you.\")\n",
    "    # Paper vs Stone\n",
    "    elif user == \"paper\" and pc1 == \"stone\":\n",
    "        user_p += 1\n",
    "        print(\"You win, paper covers stone! Point to you.\")\n",
    "    # Paper vs Scissors\n",
    "    elif user == \"paper\" and pc1 == \"scissors\":\n",
    "        pc1_p += 1\n",
    "        print(\"You lose, scissors cuts paper! Point to computer.\")\n",
    "    # Scissors vs Stone\n",
    "    elif user == \"scissors\" and pc1 == \"stone\":\n",
    "        pc1_p += 1\n",
    "        print(\"You lose, stone crushes scissors! Point to computer.\")\n",
    "    # Scissors vs Paper\n",
    "    elif user == \"scissors\" and pc1 == \"paper\":\n",
    "        user_p += 1\n",
    "        print(\"You win, scissors cuts paper! Point to you.\")\n",
    "    \n",
    "    \n",
    "    print(f\"Computer's points: {pc1_p} | Your points: {user_p}\")\n",
    "    print(f\"{10 - i} rounds left.\\n\")\n",
    "    \n",
    "    i += 1  \n",
    "\n",
    "\n",
    "print(\"GAME OVER\")\n",
    "if pc1_p == user_p:\n",
    "    print(\"It's a tie!\")\n",
    "elif pc1_p > user_p:\n",
    "    print(\"Computer wins! You lose.\")\n",
    "else:\n",
    "    print(\"Woohoo! You win! Computer loses.\")\n",
    "\n",
    "print(f\"Final score - Your points: {user_p} | Computer's points: {pc1_p}\")\n"
   ]
  }
 ],
 "metadata": {
  "kernelspec": {
   "display_name": "Python 3 (ipykernel)",
   "language": "python",
   "name": "python3"
  },
  "language_info": {
   "codemirror_mode": {
    "name": "ipython",
    "version": 3
   },
   "file_extension": ".py",
   "mimetype": "text/x-python",
   "name": "python",
   "nbconvert_exporter": "python",
   "pygments_lexer": "ipython3",
   "version": "3.12.4"
  }
 },
 "nbformat": 4,
 "nbformat_minor": 5
}
